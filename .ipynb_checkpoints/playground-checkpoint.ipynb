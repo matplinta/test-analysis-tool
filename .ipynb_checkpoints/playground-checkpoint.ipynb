{
 "cells": [
  {
   "cell_type": "markdown",
   "metadata": {},
   "source": [
    "# Akcje\n",
    "- wypłaszczyć dane, uogólnić 'test_setup_exception', 'test_exception', 'test_teardown_exception' do jednego pola, i po tym polu filtrować/podsumowywać"
   ]
  },
  {
   "cell_type": "code",
   "execution_count": 17,
   "metadata": {},
   "outputs": [],
   "source": [
    "import pandas as pd\n",
    "import requests\n",
    "import json\n",
    "import numpy as np\n",
    "import matplotlib.pyplot as plt\n",
    "import matplotlib.patches as mpatches\n",
    "from pandas import json_normalize\n",
    "import ipywidgets as widgets\n",
    "from ipywidgets import interact, interact_manual"
   ]
  },
  {
   "cell_type": "code",
   "execution_count": 18,
   "metadata": {},
   "outputs": [],
   "source": [
    "from IPython.display import display, HTML\n",
    "pd.set_option('display.max_columns', None)  # or 1000\n",
    "pd.set_option('display.max_rows', None)  # or 1000\n",
    "pd.set_option('display.max_colwidth', None)  # or 199"
   ]
  },
  {
   "cell_type": "code",
   "execution_count": 19,
   "metadata": {},
   "outputs": [],
   "source": [
    "# url = 'http://rep-portal.wroclaw.nsn-rdnet.net/api/automatic-test/runs/report/powerbi.1633096233653.json?limit=1000&builds__name__pos_neg=SBTS00&ordering=-start&qc_test_instance__test_set__name__pos_neg=2175-RB%2C%202175-QB%2C%201085-A%2C%201085-B%2C%201085-C%2C%207883&qc_test_instance__test_object__pos_neg=Regression&test_case__name__name__pos_neg=2175-RB%2C%202175-QB%2C%201085%2C%207883&offset=0&fields=no,qc_test_set,test_case__name,hyperlink_set__test_logs_url,test_col__name,test_suite,start,end,result,env_issue_type,test_line,test_col__testline_type,builds,test_col__ute_version,test_col__robotlte_revision,qc_test_instance__organization,qc_test_instance__test_object,qc_test_instance__feature,test_setup_exception,test_setup_exception_message,test_exception,test_exception_message,test_teardown_exception,test_teardown_exception_message&powerBIToken=fbe23d8dc34fb99d08fd12de71b5ab0c6fd90afb'\n",
    "# url_test_result = 'http://rep-portal.wroclaw.nsn-rdnet.net/api/automatic-test/runs/report/powerbi.1633096267418.json?limit=50&builds__name__pos_neg=SBTS00&ordering=-start&qc_test_instance__test_set__name__pos_neg=2175-RB%2C%202175-QB%2C%201085-A%2C%201085-B%2C%201085-C%2C%207883&qc_test_instance__test_object__pos_neg=Regression&test_case__name__name__pos_neg=2175-RB%2C%202175-QB%2C%201085%2C%207883&offset=0&result__name__pos_neg=not%20analyzed&fields=no,qc_test_set,test_case__name,hyperlink_set__test_logs_url,test_col__name,test_suite,start,end,result,env_issue_type,test_line,test_col__testline_type,builds,test_col__ute_version,test_col__robotlte_revision,qc_test_instance__organization,qc_test_instance__test_object,qc_test_instance__feature,test_setup_exception,test_setup_exception_message,test_exception,test_exception_message,test_teardown_exception,test_teardown_exception_message&powerBIToken=fbe23d8dc34fb99d08fd12de71b5ab0c6fd90afb'\n",
    "# response = requests.get(url)\n",
    "# dictr = response.json()\n",
    "# recs = dictr['results']\n",
    "# df = json_normalize(recs)\n",
    "# # print(df)"
   ]
  },
  {
   "cell_type": "code",
   "execution_count": 20,
   "metadata": {},
   "outputs": [],
   "source": [
    "with open(\"data.json\") as json_file:\n",
    "    records = json.load(json_file)['results']\n",
    "    df = json_normalize(records)"
   ]
  },
  {
   "cell_type": "code",
   "execution_count": 21,
   "metadata": {},
   "outputs": [
    {
     "data": {
      "application/vnd.jupyter.widget-view+json": {
       "model_id": "1b045469a6bb4454b56f9170712b6620"
      }
     },
     "metadata": {},
     "output_type": "display_data"
    }
   ],
   "source": [
    "@interact\n",
    "def show_articles_more_than(column='result', x=['not analyzed', 'passed']):\n",
    "    return df.loc[df[column] == x]"
   ]
  },
  {
   "cell_type": "code",
   "execution_count": 30,
   "metadata": {},
   "outputs": [
    {
     "data": {
      "text/html": [
       "<div>\n",
       "<style scoped>\n",
       "    .dataframe tbody tr th:only-of-type {\n",
       "        vertical-align: middle;\n",
       "    }\n",
       "\n",
       "    .dataframe tbody tr th {\n",
       "        vertical-align: top;\n",
       "    }\n",
       "\n",
       "    .dataframe thead th {\n",
       "        text-align: right;\n",
       "    }\n",
       "</style>\n",
       "<table border=\"1\" class=\"dataframe\">\n",
       "  <thead>\n",
       "    <tr style=\"text-align: right;\">\n",
       "      <th></th>\n",
       "      <th>result</th>\n",
       "      <th>test_line</th>\n",
       "      <th>env_issue_type</th>\n",
       "      <th>builds</th>\n",
       "      <th>qc_test_set</th>\n",
       "      <th>start</th>\n",
       "      <th>end</th>\n",
       "      <th>test_suite</th>\n",
       "      <th>test_setup_exception</th>\n",
       "      <th>test_setup_exception_message</th>\n",
       "      <th>test_exception</th>\n",
       "      <th>test_exception_message</th>\n",
       "      <th>test_teardown_exception</th>\n",
       "      <th>test_teardown_exception_message</th>\n",
       "      <th>test_col.ute_version</th>\n",
       "      <th>test_col.name</th>\n",
       "      <th>test_col.testline_type</th>\n",
       "      <th>test_col.robotlte_revision</th>\n",
       "      <th>test_case.name</th>\n",
       "      <th>qc_test_instance.test_object</th>\n",
       "      <th>qc_test_instance.organization</th>\n",
       "      <th>qc_test_instance.feature</th>\n",
       "      <th>hyperlink_set.log_file_url</th>\n",
       "      <th>hyperlink_set.test_logs_url</th>\n",
       "    </tr>\n",
       "  </thead>\n",
       "  <tbody>\n",
       "    <tr>\n",
       "      <th>1</th>\n",
       "      <td>not analyzed</td>\n",
       "      <td>MN Trunk Engine_Wroclaw_UTE5GCLASSICAL1792</td>\n",
       "      <td>None</td>\n",
       "      <td>SBTS00_ENB_9999_211112_000006</td>\n",
       "      <td>5GC001085-B_Intra-frequency_inter-gNB_neighbor_NRREL_addition_-_Previously_established_Xn</td>\n",
       "      <td>2021-11-13T12:18:28.494000</td>\n",
       "      <td>2021-11-13T13:21:17.768000</td>\n",
       "      <td>testsuite/Krakow/RRM/MN_RAN_L2/5GC001085/5GC001085-B.robot</td>\n",
       "      <td></td>\n",
       "      <td></td>\n",
       "      <td></td>\n",
       "      <td></td>\n",
       "      <td>Several failures occurred</td>\n",
       "      <td>1) AliasError: Provided alias (default) doesn't exist. Please setup library before any other operatino object set as default.'\\n\\n5) AliasLookupError: 'Default alias used, but no object set as default.'</td>\n",
       "      <td>2145.03.00\\n</td>\n",
       "      <td>5GC001085-B</td>\n",
       "      <td>CLOUD_5G_I_KL_AP_KL_SANSA_FS_CPRI_CMWV_TDD</td>\n",
       "      <td>33431</td>\n",
       "      <td>5GC001085_B_023_Multiple_supported_PLMNs_in_cgi-info_for_cellDepType_set_to_both_SA_NSA</td>\n",
       "      <td>Regression</td>\n",
       "      <td>RAN_L2_SW_KRK_2_SG02</td>\n",
       "      <td>5GC001085-B</td>\n",
       "      <td>http://logs.ute.nsn-rdnet.net/cloud/execution/12626446/execution_for_preparation_c4ab3bde-2bb9-4fec-9b81-47e1ef73268b/test_results/log.html</td>\n",
       "      <td>http://logs.ute.nsn-rdnet.net/cloud/execution/12626446/</td>\n",
       "    </tr>\n",
       "    <tr>\n",
       "      <th>2</th>\n",
       "      <td>not analyzed</td>\n",
       "      <td>MN Trunk Engine_Wroclaw_UTE5GCLASSICAL1792</td>\n",
       "      <td>None</td>\n",
       "      <td>SBTS00_ENB_9999_211112_000006</td>\n",
       "      <td>5GC001085-B_Intra-frequency_inter-gNB_neighbor_NRREL_addition_-_Previously_established_Xn</td>\n",
       "      <td>2021-11-13T11:26:07.323000</td>\n",
       "      <td>2021-11-13T12:18:28.486000</td>\n",
       "      <td>testsuite/Krakow/RRM/MN_RAN_L2/5GC001085/5GC001085-B.robot</td>\n",
       "      <td></td>\n",
       "      <td></td>\n",
       "      <td></td>\n",
       "      <td></td>\n",
       "      <td>Several failures occurred</td>\n",
       "      <td>1) AliasError: Provided alias (default) doesn't exist. Please setup library before any other operatino object set as default.'\\n\\n4) AliasLookupError: 'Default alias used, but no object set as default.'</td>\n",
       "      <td>2145.03.00\\n</td>\n",
       "      <td>5GC001085-B</td>\n",
       "      <td>CLOUD_5G_I_KL_AP_KL_SANSA_FS_CPRI_CMWV_TDD</td>\n",
       "      <td>33431</td>\n",
       "      <td>5GC001085_B_018_Measurement_Report_with_cgi-info_does_not_contain_TrackingAreaCode</td>\n",
       "      <td>Regression</td>\n",
       "      <td>RAN_L2_SW_KRK_2_SG02</td>\n",
       "      <td>5GC001085-B</td>\n",
       "      <td>http://logs.ute.nsn-rdnet.net/cloud/execution/12626446/execution_for_preparation_c4ab3bde-2bb9-4fec-9b81-47e1ef73268b/test_results/log.html</td>\n",
       "      <td>http://logs.ute.nsn-rdnet.net/cloud/execution/12626446/</td>\n",
       "    </tr>\n",
       "    <tr>\n",
       "      <th>3</th>\n",
       "      <td>not analyzed</td>\n",
       "      <td>MN Trunk Engine_Wroclaw_UTE5GCLASSICAL1792</td>\n",
       "      <td>None</td>\n",
       "      <td>SBTS00_ENB_9999_211112_000006</td>\n",
       "      <td>5GC001085-B_Intra-frequency_inter-gNB_neighbor_NRREL_addition_-_Previously_established_Xn</td>\n",
       "      <td>2021-11-13T10:12:35.826000</td>\n",
       "      <td>2021-11-13T11:26:07.314000</td>\n",
       "      <td>testsuite/Krakow/RRM/MN_RAN_L2/5GC001085/5GC001085-B.robot</td>\n",
       "      <td></td>\n",
       "      <td></td>\n",
       "      <td></td>\n",
       "      <td></td>\n",
       "      <td>Several failures occurred</td>\n",
       "      <td>1) AliasError: Provided alias (default) doesn't exist. Please setup library before any other operatino object set as default.'\\n\\n6) AliasLookupError: 'Default alias used, but no object set as default.'</td>\n",
       "      <td>2145.03.00\\n</td>\n",
       "      <td>5GC001085-B</td>\n",
       "      <td>CLOUD_5G_I_KL_AP_KL_SANSA_FS_CPRI_CMWV_TDD</td>\n",
       "      <td>33431</td>\n",
       "      <td>5GC001085_B_017_Unsupported_PLMN_received_in_cgi-info</td>\n",
       "      <td>Regression</td>\n",
       "      <td>RAN_L2_SW_KRK_2_SG02</td>\n",
       "      <td>5GC001085-B</td>\n",
       "      <td>http://logs.ute.nsn-rdnet.net/cloud/execution/12626446/execution_for_preparation_c4ab3bde-2bb9-4fec-9b81-47e1ef73268b/test_results/log.html</td>\n",
       "      <td>http://logs.ute.nsn-rdnet.net/cloud/execution/12626446/</td>\n",
       "    </tr>\n",
       "  </tbody>\n",
       "</table>\n",
       "</div>"
      ],
      "text/plain": [
       "         result                                   test_line env_issue_type  \\\n",
       "1  not analyzed  MN Trunk Engine_Wroclaw_UTE5GCLASSICAL1792           None   \n",
       "2  not analyzed  MN Trunk Engine_Wroclaw_UTE5GCLASSICAL1792           None   \n",
       "3  not analyzed  MN Trunk Engine_Wroclaw_UTE5GCLASSICAL1792           None   \n",
       "\n",
       "                          builds  \\\n",
       "1  SBTS00_ENB_9999_211112_000006   \n",
       "2  SBTS00_ENB_9999_211112_000006   \n",
       "3  SBTS00_ENB_9999_211112_000006   \n",
       "\n",
       "                                                                                 qc_test_set  \\\n",
       "1  5GC001085-B_Intra-frequency_inter-gNB_neighbor_NRREL_addition_-_Previously_established_Xn   \n",
       "2  5GC001085-B_Intra-frequency_inter-gNB_neighbor_NRREL_addition_-_Previously_established_Xn   \n",
       "3  5GC001085-B_Intra-frequency_inter-gNB_neighbor_NRREL_addition_-_Previously_established_Xn   \n",
       "\n",
       "                        start                         end  \\\n",
       "1  2021-11-13T12:18:28.494000  2021-11-13T13:21:17.768000   \n",
       "2  2021-11-13T11:26:07.323000  2021-11-13T12:18:28.486000   \n",
       "3  2021-11-13T10:12:35.826000  2021-11-13T11:26:07.314000   \n",
       "\n",
       "                                                   test_suite  \\\n",
       "1  testsuite/Krakow/RRM/MN_RAN_L2/5GC001085/5GC001085-B.robot   \n",
       "2  testsuite/Krakow/RRM/MN_RAN_L2/5GC001085/5GC001085-B.robot   \n",
       "3  testsuite/Krakow/RRM/MN_RAN_L2/5GC001085/5GC001085-B.robot   \n",
       "\n",
       "  test_setup_exception test_setup_exception_message test_exception  \\\n",
       "1                                                                    \n",
       "2                                                                    \n",
       "3                                                                    \n",
       "\n",
       "  test_exception_message    test_teardown_exception  \\\n",
       "1                         Several failures occurred   \n",
       "2                         Several failures occurred   \n",
       "3                         Several failures occurred   \n",
       "\n",
       "                                                                                                                                                                              test_teardown_exception_message  \\\n",
       "1  1) AliasError: Provided alias (default) doesn't exist. Please setup library before any other operatino object set as default.'\\n\\n5) AliasLookupError: 'Default alias used, but no object set as default.'   \n",
       "2  1) AliasError: Provided alias (default) doesn't exist. Please setup library before any other operatino object set as default.'\\n\\n4) AliasLookupError: 'Default alias used, but no object set as default.'   \n",
       "3  1) AliasError: Provided alias (default) doesn't exist. Please setup library before any other operatino object set as default.'\\n\\n6) AliasLookupError: 'Default alias used, but no object set as default.'   \n",
       "\n",
       "  test_col.ute_version test_col.name  \\\n",
       "1         2145.03.00\\n   5GC001085-B   \n",
       "2         2145.03.00\\n   5GC001085-B   \n",
       "3         2145.03.00\\n   5GC001085-B   \n",
       "\n",
       "                       test_col.testline_type test_col.robotlte_revision  \\\n",
       "1  CLOUD_5G_I_KL_AP_KL_SANSA_FS_CPRI_CMWV_TDD                      33431   \n",
       "2  CLOUD_5G_I_KL_AP_KL_SANSA_FS_CPRI_CMWV_TDD                      33431   \n",
       "3  CLOUD_5G_I_KL_AP_KL_SANSA_FS_CPRI_CMWV_TDD                      33431   \n",
       "\n",
       "                                                                            test_case.name  \\\n",
       "1  5GC001085_B_023_Multiple_supported_PLMNs_in_cgi-info_for_cellDepType_set_to_both_SA_NSA   \n",
       "2       5GC001085_B_018_Measurement_Report_with_cgi-info_does_not_contain_TrackingAreaCode   \n",
       "3                                    5GC001085_B_017_Unsupported_PLMN_received_in_cgi-info   \n",
       "\n",
       "  qc_test_instance.test_object qc_test_instance.organization  \\\n",
       "1                   Regression          RAN_L2_SW_KRK_2_SG02   \n",
       "2                   Regression          RAN_L2_SW_KRK_2_SG02   \n",
       "3                   Regression          RAN_L2_SW_KRK_2_SG02   \n",
       "\n",
       "  qc_test_instance.feature  \\\n",
       "1              5GC001085-B   \n",
       "2              5GC001085-B   \n",
       "3              5GC001085-B   \n",
       "\n",
       "                                                                                                                    hyperlink_set.log_file_url  \\\n",
       "1  http://logs.ute.nsn-rdnet.net/cloud/execution/12626446/execution_for_preparation_c4ab3bde-2bb9-4fec-9b81-47e1ef73268b/test_results/log.html   \n",
       "2  http://logs.ute.nsn-rdnet.net/cloud/execution/12626446/execution_for_preparation_c4ab3bde-2bb9-4fec-9b81-47e1ef73268b/test_results/log.html   \n",
       "3  http://logs.ute.nsn-rdnet.net/cloud/execution/12626446/execution_for_preparation_c4ab3bde-2bb9-4fec-9b81-47e1ef73268b/test_results/log.html   \n",
       "\n",
       "                               hyperlink_set.test_logs_url  \n",
       "1  http://logs.ute.nsn-rdnet.net/cloud/execution/12626446/  \n",
       "2  http://logs.ute.nsn-rdnet.net/cloud/execution/12626446/  \n",
       "3  http://logs.ute.nsn-rdnet.net/cloud/execution/12626446/  "
      ]
     },
     "metadata": {},
     "output_type": "display_data"
    }
   ],
   "source": [
    "df_na = df[df['result'] == 'not analyzed']\n",
    "\n",
    "# df_na.groupby(['test_exception']).count()\n",
    "# df_na.groupby([df_na.index, 'test_exception']).count()['result']\n",
    "\n",
    "df_sample = df_na.iloc[:3]\n",
    "\n",
    "display(df_sample)"
   ]
  },
  {
   "cell_type": "markdown",
   "metadata": {},
   "source": [
    "## plot_runs_by_exception_types "
   ]
  },
  {
   "cell_type": "code",
   "execution_count": 184,
   "metadata": {},
   "outputs": [
    {
     "data": {
      "image/png": "[encoded data removed]",
      "text/plain": [
       "<Figure size 432x288 with 1 Axes>"
      ]
     },
     "metadata": {
      "needs_background": "light"
     },
     "output_type": "display_data"
    }
   ],
   "source": [
    "\n",
    "def plot_runs_by_exception_types(df):\n",
    "    def adding_exception_type(x):\n",
    "        if x.test_setup_exception:\n",
    "            return 'test_setup_exception'\n",
    "        elif x.test_exception:\n",
    "            return 'test_exception'\n",
    "        elif x.test_teardown_exception:\n",
    "            return 'test_teardown_exception'\n",
    "        else:\n",
    "            return None\n",
    "        \n",
    "    df_temp = df.groupby(['test_setup_exception', 'test_exception', 'test_teardown_exception']).count()['result'].reset_index()\n",
    "\n",
    "\n",
    "    df_temp['exception_type'] = df_temp.apply(adding_exception_type, axis=1)\n",
    "    df_temp['exception'] = df_temp.apply(lambda value: value[value.exception_type], axis=1)\n",
    "    df_temp.drop(['test_setup_exception', 'test_exception', 'test_teardown_exception'], axis=1, inplace=True)\n",
    "    colors = {'test_setup_exception': 'r', 'test_exception': 'b', 'test_teardown_exception': 'g'}\n",
    "    df_temp.set_index('exception')['result'].plot.barh(legend=True, color=[colors[i] for i in df_temp['exception_type']])\n",
    "    patches = [mpatches.Patch(color=colors[x], label=x) for x in colors.keys()]\n",
    "    plt.legend(handles=patches, labels=colors.keys())\n",
    "    \n",
    "plot_runs_by_exception_types(df_na)"
   ]
  },
  {
   "cell_type": "code",
   "execution_count": 22,
   "metadata": {
    "scrolled": false
   },
   "outputs": [
    {
     "data": {
      "text/plain": [
       "<AxesSubplot:ylabel='test_setup_exception,test_exception,test_teardown_exception'>"
      ]
     },
     "execution_count": 22,
     "metadata": {},
     "output_type": "execute_result"
    },
    {
     "data": {
      "image/png": "[encoded data removed]",
      "text/plain": [
       "<Figure size 432x288 with 1 Axes>"
      ]
     },
     "metadata": {
      "needs_background": "light"
     },
     "output_type": "display_data"
    }
   ],
   "source": [
    "df_na.groupby(['test_setup_exception', 'test_exception', 'test_teardown_exception']).count()['result'].plot(kind='barh', x=['test_setup_exception', 'test_exception', 'test_teardown_exception'])"
   ]
  },
  {
   "cell_type": "code",
   "execution_count": null,
   "metadata": {},
   "outputs": [],
   "source": []
  }
 ],
 "metadata": {
  "kernelspec": {
   "display_name": "Python 3",
   "language": "python",
   "name": "python3"
  },
  "language_info": {
   "codemirror_mode": {
    "name": "ipython",
    "version": 3
   },
   "file_extension": ".py",
   "mimetype": "text/x-python",
   "name": "python",
   "nbconvert_exporter": "python",
   "pygments_lexer": "ipython3",
   "version": "3.8.5"
  }
 },
 "nbformat": 4,
 "nbformat_minor": 4
}
