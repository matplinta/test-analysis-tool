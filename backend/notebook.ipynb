{
 "cells": [
  {
   "cell_type": "code",
   "execution_count": 1,
   "id": "cddab4cf",
   "metadata": {},
   "outputs": [],
   "source": [
    "import os\n",
    "import django\n",
    "os.environ.setdefault('DJANGO_SETTINGS_MODULE', 'rest.settings')\n",
    "os.environ[\"DJANGO_ALLOW_ASYNC_UNSAFE\"] = \"true\"\n",
    "django.setup()\n",
    "from functools import reduce\n",
    "from django.core.serializers import serialize"
   ]
  },
  {
   "cell_type": "code",
   "execution_count": 2,
   "id": "966a3cc6",
   "metadata": {},
   "outputs": [],
   "source": [
    "from tra.models import *\n",
    "from tra.test_runs_processing import *\n",
    "from rep_portal.api import *"
   ]
  },
  {
   "cell_type": "code",
   "execution_count": 3,
   "id": "390c0363",
   "metadata": {},
   "outputs": [],
   "source": [
    "from tra.storage import get_storage_instance\n",
    "from tra import utils"
   ]
  },
  {
   "cell_type": "code",
   "execution_count": 5,
   "id": "c038428e",
   "metadata": {},
   "outputs": [
    {
     "name": "stderr",
     "output_type": "stream",
     "text": [
      "Starting new HTTPS connection (1): rep-portal.wroclaw.nsn-rdnet.net\n"
     ]
    },
    {
     "name": "stdout",
     "output_type": "stream",
     "text": [
      "Root\\Test_Sets\\Trunk\\RAN_L2_SW_KRK_2\\5GC002175_Spillover_from_SA_Mobility_(5GC000704_5GC000708)\n"
     ]
    },
    {
     "data": {
      "text/plain": [
       "[{'id': 10595982,\n",
       "  'test_set': {'name': '5GC002175-QB'},\n",
       "  'url': '/qc/instance/details/10595982/',\n",
       "  'status_color': 'green',\n",
       "  'last_passed': {'timestamp': '2022-09-08T14:50:32',\n",
       "   'sw_build': 'SBTS00_ENB_9999_220903_000004'},\n",
       "  'name': '[1][1.0] 5GC002175-QB-0002_NGAP_UE_Context_Release_Command_protocol_error',\n",
       "  'status': 'Passed',\n",
       "  'release': '5G00',\n",
       "  'test_lvl_area': 'EnTe - Functional Test',\n",
       "  'sw_build': 'SBTS00_ENB_9999_220903_000004',\n",
       "  'm_path': 'Root\\\\Test_Sets\\\\Trunk\\\\RAN_L2_SW_KRK_2\\\\5GC002175_Spillover_from_SA_Mobility_(5GC000704_5GC000708)',\n",
       "  'suspended': False},\n",
       " {'id': 10595983,\n",
       "  'test_set': {'name': '5GC002175-RB'},\n",
       "  'url': '/qc/instance/details/10595983/',\n",
       "  'status_color': 'green',\n",
       "  'last_passed': {'timestamp': '2022-09-08T15:15:55',\n",
       "   'sw_build': 'SBTS00_ENB_9999_220903_000004'},\n",
       "  'name': '[1][1.0] 5GC002175-RB-0002_NGAP_Error_Indication_other_protocol_error',\n",
       "  'status': 'Passed',\n",
       "  'release': '5G00',\n",
       "  'test_lvl_area': 'EnTe - Functional Test',\n",
       "  'sw_build': 'SBTS00_ENB_9999_220903_000004',\n",
       "  'm_path': 'Root\\\\Test_Sets\\\\Trunk\\\\RAN_L2_SW_KRK_2\\\\5GC002175_Spillover_from_SA_Mobility_(5GC000704_5GC000708)',\n",
       "  'suspended': False},\n",
       " {'id': 10595984,\n",
       "  'test_set': {'name': '5GC002175-RB'},\n",
       "  'url': '/qc/instance/details/10595984/',\n",
       "  'status_color': 'green',\n",
       "  'last_passed': {'timestamp': '2022-09-08T15:03:56',\n",
       "   'sw_build': 'SBTS00_ENB_9999_220903_000004'},\n",
       "  'name': '[1][1.0] 5GC002175-RB-0001_NGAP_Error_Indication_NGAP_ID_error',\n",
       "  'status': 'Passed',\n",
       "  'release': '5G00',\n",
       "  'test_lvl_area': 'EnTe - Functional Test',\n",
       "  'sw_build': 'SBTS00_ENB_9999_220903_000004',\n",
       "  'm_path': 'Root\\\\Test_Sets\\\\Trunk\\\\RAN_L2_SW_KRK_2\\\\5GC002175_Spillover_from_SA_Mobility_(5GC000704_5GC000708)',\n",
       "  'suspended': False},\n",
       " {'id': 10595986,\n",
       "  'test_set': {'name': '5GC002175-RB'},\n",
       "  'url': '/qc/instance/details/10595986/',\n",
       "  'status_color': 'green',\n",
       "  'last_passed': {'timestamp': '2022-09-08T15:39:55',\n",
       "   'sw_build': 'SBTS00_ENB_9999_220903_000004'},\n",
       "  'name': '[1][1.0] 5GC002175-RB-0005_NGAP_Path_Switch_Request_ACK_PDU_session_ID_error',\n",
       "  'status': 'Passed',\n",
       "  'release': '5G00',\n",
       "  'test_lvl_area': 'EnTe - Functional Test',\n",
       "  'sw_build': 'SBTS00_ENB_9999_220903_000004',\n",
       "  'm_path': 'Root\\\\Test_Sets\\\\Trunk\\\\RAN_L2_SW_KRK_2\\\\5GC002175_Spillover_from_SA_Mobility_(5GC000704_5GC000708)',\n",
       "  'suspended': False},\n",
       " {'id': 10595987,\n",
       "  'test_set': {'name': '5GC002175-RB'},\n",
       "  'url': '/qc/instance/details/10595987/',\n",
       "  'status_color': 'green',\n",
       "  'last_passed': {'timestamp': '2022-09-08T15:27:55',\n",
       "   'sw_build': 'SBTS00_ENB_9999_220903_000004'},\n",
       "  'name': '[1][1.0] 5GC002175-RB-0004_NGAP_Path_Switch_Request_ACK_other_protocol_error',\n",
       "  'status': 'Passed',\n",
       "  'release': '5G00',\n",
       "  'test_lvl_area': 'EnTe - Functional Test',\n",
       "  'sw_build': 'SBTS00_ENB_9999_220903_000004',\n",
       "  'm_path': 'Root\\\\Test_Sets\\\\Trunk\\\\RAN_L2_SW_KRK_2\\\\5GC002175_Spillover_from_SA_Mobility_(5GC000704_5GC000708)',\n",
       "  'suspended': False},\n",
       " {'id': 10595988,\n",
       "  'test_set': {'name': '5GC002175-RB'},\n",
       "  'url': '/qc/instance/details/10595988/',\n",
       "  'status_color': 'green',\n",
       "  'last_passed': {'timestamp': '2022-09-08T16:02:44',\n",
       "   'sw_build': 'SBTS00_ENB_9999_220903_000004'},\n",
       "  'name': '[1][1.0] 5GC002175-RB-0006_NGAP_Path_Switch_Request_invalid_response_message',\n",
       "  'status': 'Passed',\n",
       "  'release': '5G00',\n",
       "  'test_lvl_area': 'EnTe - Functional Test',\n",
       "  'sw_build': 'SBTS00_ENB_9999_220903_000004',\n",
       "  'm_path': 'Root\\\\Test_Sets\\\\Trunk\\\\RAN_L2_SW_KRK_2\\\\5GC002175_Spillover_from_SA_Mobility_(5GC000704_5GC000708)',\n",
       "  'suspended': False},\n",
       " {'id': 10595989,\n",
       "  'test_set': {'name': '5GC002175-QB'},\n",
       "  'url': '/qc/instance/details/10595989/',\n",
       "  'status_color': 'green',\n",
       "  'last_passed': {'timestamp': '2022-09-08T14:41:59',\n",
       "   'sw_build': 'SBTS00_ENB_9999_220903_000004'},\n",
       "  'name': '[1][1.0] 5GC002175-QB-0001_NGAP_Error_Indication',\n",
       "  'status': 'Passed',\n",
       "  'release': '5G00',\n",
       "  'test_lvl_area': 'EnTe - Functional Test',\n",
       "  'sw_build': 'SBTS00_ENB_9999_220903_000004',\n",
       "  'm_path': 'Root\\\\Test_Sets\\\\Trunk\\\\RAN_L2_SW_KRK_2\\\\5GC002175_Spillover_from_SA_Mobility_(5GC000704_5GC000708)',\n",
       "  'suspended': False}]"
      ]
     },
     "metadata": {},
     "output_type": "display_data"
    },
    {
     "data": {
      "text/plain": [
       "[]"
      ]
     },
     "execution_count": 5,
     "metadata": {},
     "output_type": "execute_result"
    }
   ],
   "source": [
    "def sync_suspension_status_of_test_instances_by_testset_filter(testset_filter_id: int, limit=None):\n",
    "    def get_ti_suspended_status_from_results(ti_id: int):\n",
    "        return next((item[\"suspended\"] for item in results if item[\"id\"] == ti_id), None)\n",
    "\n",
    "    not_found = []\n",
    "    testset_filter = TestSetFilter.objects.get(id=testset_filter_id)\n",
    "    postfix = testset_filter.test_lab_path.split('\\\\')[-1]\n",
    "    if not limit:\n",
    "        limit = testset_filter.limit\n",
    "    results = RepPortal().get_data_from_testinstances(limit=limit, test_lab_path=testset_filter.test_lab_path)\n",
    "    print(testset_filter.test_lab_path)\n",
    "    display(results)\n",
    "    for test_instance in testset_filter.test_instances.all():\n",
    "        suspended_status = get_ti_suspended_status_from_results(test_instance.rp_id)\n",
    "        if suspended_status is None:\n",
    "            print(test_instance.rp_id)\n",
    "            not_found.append(test_instance.rp_id)\n",
    "        test_instance.execution_suspended = suspended_status\n",
    "        test_instance.save()\n",
    "    return not_found\n",
    "\n",
    "\n",
    "# def sync_suspension_status_of_test_instances_by_all_testset_filters(query_limit: int=None):\n",
    "#     testset_filters = TestSetFilter.objects.all()\n",
    "#     status_response = {}\n",
    "#     for testset_filter in testset_filters:\n",
    "#         if testset_filter.is_subscribed_by_anyone(): \n",
    "#             status_response[testset_filter.id] = \"sync scheduled\" \n",
    "#             sync_suspension_status_of_test_instances_by_testset_filter(testset_filter_id=testset_filter.id, limit=query_limit)\n",
    "#         else:\n",
    "#             status_response[testset_filter.id] = f\"TestSetFilter.id: {testset_filter.id} has 0 subscribers - will be skipped\" \n",
    "#     return status_response\n",
    "\n",
    "# sync_suspension_status_of_test_instances_by_all_testset_filters()\n",
    "\n",
    "sync_suspension_status_of_test_instances_by_testset_filter(11)"
   ]
  },
  {
   "cell_type": "code",
   "execution_count": 9,
   "id": "b34d5797",
   "metadata": {},
   "outputs": [
    {
     "name": "stdout",
     "output_type": "stream",
     "text": [
      "110\n",
      "110\n",
      "103\n",
      "103\n",
      "110\n",
      "110\n"
     ]
    }
   ],
   "source": [
    "from itertools import chain \n",
    "\n",
    "auth_params = utils.get_rp_api_auth_params()\n",
    "testset_filters = TestSetFilter.objects.exclude(subscribers=None)\n",
    "branches = set([tsf.branch for tsf in testset_filters])\n",
    "# ti_eligible_to_sync_all = list(chain(*[testset_filter.test_instances.all() for testset_filter in testset_filters]))\n",
    "ti_eligible_to_sync_all = TestInstance.objects.none()\n",
    "for testset_filter in testset_filters:\n",
    "    ti_eligible_to_sync_all = ti_eligible_to_sync_all | testset_filter.test_instances.all() \n",
    "organizations = set([ti.organization for ti in ti_eligible_to_sync_all])\n",
    "\n",
    "for organization in organizations:\n",
    "    for branch in branches:\n",
    "        print(TestInstance.objects.exclude(test_set__subscribers=None).filter(organization=organization, test_set__branch=branch).count())\n",
    "        ti_eligible_to_sync = ti_eligible_to_sync_all.filter(organization=organization, test_set__branch=branch)\n",
    "        print(ti_eligible_to_sync.count())\n",
    "#         ti_noruns =  RepPortal(**auth_params).get_test_instances_for_present_feature_build_with_specified_status(\n",
    "#             organization.name, status=\"no_run\", release=branch.name, regression_test_types=\"rg_CIT,rg_CRT\")\n",
    "#         print(organization, branch)\n",
    "#         ti_eligible_ids = set([ti.rp_id for ti in ti_eligible_to_sync])\n",
    "#         ti_noruns_ids = set([ti[\"id\"] for ti in ti_noruns])\n",
    "#         ti_intersection = ti_eligible_ids.intersection(ti_noruns_ids)\n",
    "#         print(ti_intersection)\n",
    "#         TestInstance.objects.filter(rp_id__in=list(ti_intersection)).update(no_run_in_rp=True)\n",
    "#         print(TestInstance.objects.filter(rp_id__in=ti_intersection))\n"
   ]
  },
  {
   "cell_type": "code",
   "execution_count": 5,
   "id": "eb9cb630",
   "metadata": {},
   "outputs": [
    {
     "ename": "NameError",
     "evalue": "name 'organization' is not defined",
     "output_type": "error",
     "traceback": [
      "\u001b[0;31m---------------------------------------------------------------------------\u001b[0m",
      "\u001b[0;31mNameError\u001b[0m                                 Traceback (most recent call last)",
      "Input \u001b[0;32mIn [5]\u001b[0m, in \u001b[0;36m<cell line: 1>\u001b[0;34m()\u001b[0m\n\u001b[0;32m----> 1\u001b[0m TestInstance\u001b[38;5;241m.\u001b[39mobjects\u001b[38;5;241m.\u001b[39mfilter(organization\u001b[38;5;241m=\u001b[39m\u001b[43morganization\u001b[49m, test_set__branch\u001b[38;5;241m=\u001b[39mbranch)\n",
      "\u001b[0;31mNameError\u001b[0m: name 'organization' is not defined"
     ]
    }
   ],
   "source": []
  },
  {
   "cell_type": "code",
   "execution_count": 10,
   "id": "72a036a2",
   "metadata": {},
   "outputs": [
    {
     "data": {
      "text/plain": [
       "<QuerySet [<TestSetFilter: Trunk - CLOUD_5G_I_LO_AP_LO_SANSA_FS_ECPRI_CMWV_TDD - 5GC001085-B_Intra-frequency_inter-gNB_neighbor_NRREL_addition_-_Previously_established_Xn>, <TestSetFilter: Trunk - CLOUD_5G_I_BOO_AP_KLLL_SANSA_L1B_ECPRI_CMWV_TDD - CB008533_B_Multiple_UEs_Call_Setup_4CC_DL_CA>, <TestSetFilter: Trunk - CLOUD_5G_I_BOO_AP_KLLL_SANSA_L1B_ECPRI_CMWV_TDD - 5GC002640_AD_DRX_MG_support_IODT>, <TestSetFilter: Trunk - CLOUD_5G_I_LO_AP_LO_SANSA_FS_ECPRI_CMWV_TDD - 5GC001085-A_Intra-frequency_intra-gNB_neighbor_NRREL_addition>, <TestSetFilter: Trunk - CLOUD_5G_O_E_AP_LO_SANSA_FS_ECPRI_CMWV_TDD - 5GC001085-A_Intra-frequency_intra-gNB_neighbor_NRREL_addition>, <TestSetFilter: Trunk - CLOUD_5G_O_E_AP_LO_SANSA_FS_ECPRI_CMWV_TDD - 5GC001085-B_Intra-frequency_inter-gNB_neighbor_NRREL_addition_-_Previously_established_Xn>, <TestSetFilter: Trunk - CLOUD_5G_I_LO_AP_LO_SANSA_FS_ECPRI_CMWV_TDD - 5GC001085-C_Intra-frequency_NRREL_deletion_(Pruning)_based_on_Measurement_Reports>, <TestSetFilter: Trunk - CLOUD_5G_O_E_AP_LO_SANSA_FS_ECPRI_CMWV_TDD - 5GC001085-C_Intra-frequency_NRREL_deletion_(Pruning)_based_on_Measurement_Reports>, <TestSetFilter: Trunk - CLOUD_5G_I_LO_AP_LO_SANSA_FS_ECPRI_CMWV_TDD - CB007883-5G-D_-_Spillover_of_5GC001085-D_Intra_Frequency_Inter-gNB_neighbor_NRREL_and_Xn_addition_SON_Config_Transfer>, <TestSetFilter: Trunk - CLOUD_5G_O_E_AP_LO_SANSA_FS_ECPRI_CMWV_TDD - CB007883-5G-D_-_Spillover_of_5GC001085-D_Intra_Frequency_Inter-gNB_neighbor_NRREL_and_Xn_addition_SON_Config_Transfer>, <TestSetFilter: Trunk - CLOUD_5G_I_LO_AP_LO_SANSA_FS_ECPRI_CMWV_TDD - 5GC002175-RB>, <TestSetFilter: Trunk - CLOUD_5G_O_E_AP_LO_SANSA_FS_ECPRI_CMWV_TDD - 5GC002175-RB>, <TestSetFilter: Trunk - CLOUD_5G_I_LO_AP_LO_SANSA_FS_ECPRI_CMWV_TDD - 5GC002175-QB>, <TestSetFilter: Trunk - CLOUD_5G_O_E_AP_LO_SANSA_FS_ECPRI_CMWV_TDD - 5GC002175-QB>, <TestSetFilter: 22R3 - CLOUD_5G_I_LO_AP_LO_SANSA_FS_ECPRI_CMWV_TDD - CB007883-5G-D_-_Spillover_of_5GC001085-D_Intra_Frequency_Inter-gNB_neighbor_NRREL_and_Xn_addition_SON_Config_Transfer>, <TestSetFilter: 22R3 - CLOUD_5G_O_E_AP_LO_SANSA_FS_ECPRI_CMWV_TDD - CB007883-5G-D_-_Spillover_of_5GC001085-D_Intra_Frequency_Inter-gNB_neighbor_NRREL_and_Xn_addition_SON_Config_Transfer>, <TestSetFilter: 22R3 - CLOUD_5G_I_LO_AP_LO_SANSA_FS_ECPRI_CMWV_TDD - 5GC001085-C_Intra-frequency_NRREL_deletion_(Pruning)_based_on_Measurement_Reports>, <TestSetFilter: 22R3 - CLOUD_5G_O_E_AP_LO_SANSA_FS_ECPRI_CMWV_TDD - 5GC001085-C_Intra-frequency_NRREL_deletion_(Pruning)_based_on_Measurement_Reports>, <TestSetFilter: 22R3 - CLOUD_5G_I_LO_AP_LO_SANSA_FS_ECPRI_CMWV_TDD - 5GC002175-RB>, <TestSetFilter: 22R3 - CLOUD_5G_O_E_AP_LO_SANSA_FS_ECPRI_CMWV_TDD - 5GC002175-RB>, '...(remaining elements truncated)...']>"
      ]
     },
     "execution_count": 10,
     "metadata": {},
     "output_type": "execute_result"
    }
   ],
   "source": [
    "TestSetFilter.objects.exclude(subscribers=None)"
   ]
  },
  {
   "cell_type": "code",
   "execution_count": null,
   "id": "6ed722f0",
   "metadata": {},
   "outputs": [],
   "source": []
  }
 ],
 "metadata": {
  "kernelspec": {
   "display_name": "Django Shell-Plus",
   "language": "python",
   "name": "django_extensions"
  },
  "language_info": {
   "codemirror_mode": {
    "name": "ipython",
    "version": 3
   },
   "file_extension": ".py",
   "mimetype": "text/x-python",
   "name": "python",
   "nbconvert_exporter": "python",
   "pygments_lexer": "ipython3",
   "version": "3.8.13"
  }
 },
 "nbformat": 4,
 "nbformat_minor": 5
}
