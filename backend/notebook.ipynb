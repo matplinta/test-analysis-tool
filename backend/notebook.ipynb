{
 "cells": [
  {
   "cell_type": "code",
   "execution_count": 1,
   "id": "cddab4cf",
   "metadata": {},
   "outputs": [],
   "source": [
    "import os\n",
    "import django\n",
    "os.environ.setdefault('DJANGO_SETTINGS_MODULE', 'rest.settings')\n",
    "os.environ[\"DJANGO_ALLOW_ASYNC_UNSAFE\"] = \"true\"\n",
    "django.setup()\n",
    "from functools import reduce\n",
    "from django.core.serializers import serialize"
   ]
  },
  {
   "cell_type": "code",
   "execution_count": 2,
   "id": "966a3cc6",
   "metadata": {},
   "outputs": [],
   "source": [
    "from tra.models import *\n",
    "from tra.test_runs_processing import *\n",
    "from rep_portal.api import *"
   ]
  },
  {
   "cell_type": "code",
   "execution_count": 3,
   "id": "390c0363",
   "metadata": {},
   "outputs": [],
   "source": [
    "from tra.storage import get_storage_instance\n",
    "from tra import utils"
   ]
  },
  {
   "cell_type": "code",
   "execution_count": 5,
   "id": "c038428e",
   "metadata": {},
   "outputs": [
    {
     "name": "stderr",
     "output_type": "stream",
     "text": [
      "Starting new HTTPS connection (1): rep-portal.wroclaw.nsn-rdnet.net\n"
     ]
    },
    {
     "name": "stdout",
     "output_type": "stream",
     "text": [
      "Root\\Test_Sets\\Trunk\\RAN_L2_SW_KRK_2\\5GC002175_Spillover_from_SA_Mobility_(5GC000704_5GC000708)\n"
     ]
    },
    {
     "data": {
      "text/plain": [
       "[{'id': 10595982,\n",
       "  'test_set': {'name': '5GC002175-QB'},\n",
       "  'url': '/qc/instance/details/10595982/',\n",
       "  'status_color': 'green',\n",
       "  'last_passed': {'timestamp': '2022-09-08T14:50:32',\n",
       "   'sw_build': 'SBTS00_ENB_9999_220903_000004'},\n",
       "  'name': '[1][1.0] 5GC002175-QB-0002_NGAP_UE_Context_Release_Command_protocol_error',\n",
       "  'status': 'Passed',\n",
       "  'release': '5G00',\n",
       "  'test_lvl_area': 'EnTe - Functional Test',\n",
       "  'sw_build': 'SBTS00_ENB_9999_220903_000004',\n",
       "  'm_path': 'Root\\\\Test_Sets\\\\Trunk\\\\RAN_L2_SW_KRK_2\\\\5GC002175_Spillover_from_SA_Mobility_(5GC000704_5GC000708)',\n",
       "  'suspended': False},\n",
       " {'id': 10595983,\n",
       "  'test_set': {'name': '5GC002175-RB'},\n",
       "  'url': '/qc/instance/details/10595983/',\n",
       "  'status_color': 'green',\n",
       "  'last_passed': {'timestamp': '2022-09-08T15:15:55',\n",
       "   'sw_build': 'SBTS00_ENB_9999_220903_000004'},\n",
       "  'name': '[1][1.0] 5GC002175-RB-0002_NGAP_Error_Indication_other_protocol_error',\n",
       "  'status': 'Passed',\n",
       "  'release': '5G00',\n",
       "  'test_lvl_area': 'EnTe - Functional Test',\n",
       "  'sw_build': 'SBTS00_ENB_9999_220903_000004',\n",
       "  'm_path': 'Root\\\\Test_Sets\\\\Trunk\\\\RAN_L2_SW_KRK_2\\\\5GC002175_Spillover_from_SA_Mobility_(5GC000704_5GC000708)',\n",
       "  'suspended': False},\n",
       " {'id': 10595984,\n",
       "  'test_set': {'name': '5GC002175-RB'},\n",
       "  'url': '/qc/instance/details/10595984/',\n",
       "  'status_color': 'green',\n",
       "  'last_passed': {'timestamp': '2022-09-08T15:03:56',\n",
       "   'sw_build': 'SBTS00_ENB_9999_220903_000004'},\n",
       "  'name': '[1][1.0] 5GC002175-RB-0001_NGAP_Error_Indication_NGAP_ID_error',\n",
       "  'status': 'Passed',\n",
       "  'release': '5G00',\n",
       "  'test_lvl_area': 'EnTe - Functional Test',\n",
       "  'sw_build': 'SBTS00_ENB_9999_220903_000004',\n",
       "  'm_path': 'Root\\\\Test_Sets\\\\Trunk\\\\RAN_L2_SW_KRK_2\\\\5GC002175_Spillover_from_SA_Mobility_(5GC000704_5GC000708)',\n",
       "  'suspended': False},\n",
       " {'id': 10595986,\n",
       "  'test_set': {'name': '5GC002175-RB'},\n",
       "  'url': '/qc/instance/details/10595986/',\n",
       "  'status_color': 'green',\n",
       "  'last_passed': {'timestamp': '2022-09-08T15:39:55',\n",
       "   'sw_build': 'SBTS00_ENB_9999_220903_000004'},\n",
       "  'name': '[1][1.0] 5GC002175-RB-0005_NGAP_Path_Switch_Request_ACK_PDU_session_ID_error',\n",
       "  'status': 'Passed',\n",
       "  'release': '5G00',\n",
       "  'test_lvl_area': 'EnTe - Functional Test',\n",
       "  'sw_build': 'SBTS00_ENB_9999_220903_000004',\n",
       "  'm_path': 'Root\\\\Test_Sets\\\\Trunk\\\\RAN_L2_SW_KRK_2\\\\5GC002175_Spillover_from_SA_Mobility_(5GC000704_5GC000708)',\n",
       "  'suspended': False},\n",
       " {'id': 10595987,\n",
       "  'test_set': {'name': '5GC002175-RB'},\n",
       "  'url': '/qc/instance/details/10595987/',\n",
       "  'status_color': 'green',\n",
       "  'last_passed': {'timestamp': '2022-09-08T15:27:55',\n",
       "   'sw_build': 'SBTS00_ENB_9999_220903_000004'},\n",
       "  'name': '[1][1.0] 5GC002175-RB-0004_NGAP_Path_Switch_Request_ACK_other_protocol_error',\n",
       "  'status': 'Passed',\n",
       "  'release': '5G00',\n",
       "  'test_lvl_area': 'EnTe - Functional Test',\n",
       "  'sw_build': 'SBTS00_ENB_9999_220903_000004',\n",
       "  'm_path': 'Root\\\\Test_Sets\\\\Trunk\\\\RAN_L2_SW_KRK_2\\\\5GC002175_Spillover_from_SA_Mobility_(5GC000704_5GC000708)',\n",
       "  'suspended': False},\n",
       " {'id': 10595988,\n",
       "  'test_set': {'name': '5GC002175-RB'},\n",
       "  'url': '/qc/instance/details/10595988/',\n",
       "  'status_color': 'green',\n",
       "  'last_passed': {'timestamp': '2022-09-08T16:02:44',\n",
       "   'sw_build': 'SBTS00_ENB_9999_220903_000004'},\n",
       "  'name': '[1][1.0] 5GC002175-RB-0006_NGAP_Path_Switch_Request_invalid_response_message',\n",
       "  'status': 'Passed',\n",
       "  'release': '5G00',\n",
       "  'test_lvl_area': 'EnTe - Functional Test',\n",
       "  'sw_build': 'SBTS00_ENB_9999_220903_000004',\n",
       "  'm_path': 'Root\\\\Test_Sets\\\\Trunk\\\\RAN_L2_SW_KRK_2\\\\5GC002175_Spillover_from_SA_Mobility_(5GC000704_5GC000708)',\n",
       "  'suspended': False},\n",
       " {'id': 10595989,\n",
       "  'test_set': {'name': '5GC002175-QB'},\n",
       "  'url': '/qc/instance/details/10595989/',\n",
       "  'status_color': 'green',\n",
       "  'last_passed': {'timestamp': '2022-09-08T14:41:59',\n",
       "   'sw_build': 'SBTS00_ENB_9999_220903_000004'},\n",
       "  'name': '[1][1.0] 5GC002175-QB-0001_NGAP_Error_Indication',\n",
       "  'status': 'Passed',\n",
       "  'release': '5G00',\n",
       "  'test_lvl_area': 'EnTe - Functional Test',\n",
       "  'sw_build': 'SBTS00_ENB_9999_220903_000004',\n",
       "  'm_path': 'Root\\\\Test_Sets\\\\Trunk\\\\RAN_L2_SW_KRK_2\\\\5GC002175_Spillover_from_SA_Mobility_(5GC000704_5GC000708)',\n",
       "  'suspended': False}]"
      ]
     },
     "metadata": {},
     "output_type": "display_data"
    },
    {
     "data": {
      "text/plain": [
       "[]"
      ]
     },
     "execution_count": 5,
     "metadata": {},
     "output_type": "execute_result"
    }
   ],
   "source": [
    "def sync_suspension_status_of_test_instances_by_testset_filter(testset_filter_id: int, limit=None):\n",
    "    def get_ti_suspended_status_from_results(ti_id: int):\n",
    "        return next((item[\"suspended\"] for item in results if item[\"id\"] == ti_id), None)\n",
    "\n",
    "    not_found = []\n",
    "    testset_filter = TestSetFilter.objects.get(id=testset_filter_id)\n",
    "    postfix = testset_filter.test_lab_path.split('\\\\')[-1]\n",
    "    if not limit:\n",
    "        limit = testset_filter.limit\n",
    "    results = RepPortal().get_data_from_testinstances(limit=limit, test_lab_path=testset_filter.test_lab_path)\n",
    "    print(testset_filter.test_lab_path)\n",
    "    display(results)\n",
    "    for test_instance in testset_filter.test_instances.all():\n",
    "        suspended_status = get_ti_suspended_status_from_results(test_instance.rp_id)\n",
    "        if suspended_status is None:\n",
    "            print(test_instance.rp_id)\n",
    "            not_found.append(test_instance.rp_id)\n",
    "        test_instance.execution_suspended = suspended_status\n",
    "        test_instance.save()\n",
    "    return not_found\n",
    "\n",
    "\n",
    "# def sync_suspension_status_of_test_instances_by_all_testset_filters(query_limit: int=None):\n",
    "#     testset_filters = TestSetFilter.objects.all()\n",
    "#     status_response = {}\n",
    "#     for testset_filter in testset_filters:\n",
    "#         if testset_filter.is_subscribed_by_anyone(): \n",
    "#             status_response[testset_filter.id] = \"sync scheduled\" \n",
    "#             sync_suspension_status_of_test_instances_by_testset_filter(testset_filter_id=testset_filter.id, limit=query_limit)\n",
    "#         else:\n",
    "#             status_response[testset_filter.id] = f\"TestSetFilter.id: {testset_filter.id} has 0 subscribers - will be skipped\" \n",
    "#     return status_response\n",
    "\n",
    "# sync_suspension_status_of_test_instances_by_all_testset_filters()\n",
    "\n",
    "sync_suspension_status_of_test_instances_by_testset_filter(11)"
   ]
  },
  {
   "cell_type": "code",
   "execution_count": null,
   "id": "b34d5797",
   "metadata": {},
   "outputs": [],
   "source": []
  },
  {
   "cell_type": "code",
   "execution_count": null,
   "id": "eb9cb630",
   "metadata": {},
   "outputs": [],
   "source": []
  }
 ],
 "metadata": {
  "kernelspec": {
   "display_name": "Django Shell-Plus",
   "language": "python",
   "name": "django_extensions"
  },
  "language_info": {
   "codemirror_mode": {
    "name": "ipython",
    "version": 3
   },
   "file_extension": ".py",
   "mimetype": "text/x-python",
   "name": "python",
   "nbconvert_exporter": "python",
   "pygments_lexer": "ipython3",
   "version": "3.8.13"
  }
 },
 "nbformat": 4,
 "nbformat_minor": 5
}
