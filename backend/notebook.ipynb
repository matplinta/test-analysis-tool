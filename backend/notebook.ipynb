{
 "cells": [
  {
   "cell_type": "code",
   "execution_count": 16,
   "id": "cddab4cf",
   "metadata": {},
   "outputs": [],
   "source": [
    "import os\n",
    "import django\n",
    "os.environ.setdefault('DJANGO_SETTINGS_MODULE', 'rest.settings')\n",
    "os.environ[\"DJANGO_ALLOW_ASYNC_UNSAFE\"] = \"true\"\n",
    "django.setup()\n",
    "from functools import reduce\n",
    "from django.core.serializers import serialize"
   ]
  },
  {
   "cell_type": "code",
   "execution_count": 17,
   "id": "966a3cc6",
   "metadata": {},
   "outputs": [],
   "source": [
    "from tra.models import *"
   ]
  },
  {
   "cell_type": "code",
   "execution_count": 18,
   "id": "390c0363",
   "metadata": {},
   "outputs": [],
   "source": [
    "queryset = TestRun.objects.all()\n",
    "regfilters = TestSetFilter.objects.all()\n",
    "queryset = queryset.filter(\n",
    "    reduce(lambda q, reg_filter: q | Q(testline_type=reg_filter.testline_type, \n",
    "                                       test_instance__test_set=reg_filter), regfilters, Q())\n",
    ")"
   ]
  },
  {
   "cell_type": "code",
   "execution_count": 19,
   "id": "9332c723",
   "metadata": {},
   "outputs": [],
   "source": [
    "\n",
    "def get_distinct_values_and_serialize(field, model, serializer=None, order_by_param=None, key_override=None):\n",
    "    order_by_param = order_by_param if order_by_param else field\n",
    "    distinct_values = queryset.order_by(order_by_param).distinct(field).values_list(field, flat=True)\n",
    "    objects = model.objects.filter(pk__in=distinct_values)\n",
    "    data = serialize(\"json\", objects)\n",
    "    key = field if not key_override else key_override\n",
    "    return json.loads(data)"
   ]
  },
  {
   "cell_type": "code",
   "execution_count": 32,
   "id": "c19661bf",
   "metadata": {},
   "outputs": [
    {
     "name": "stdout",
     "output_type": "stream",
     "text": [
      "<QuerySet ['5GC001085-A_Intra-frequency_intra-gNB_neighbor_NRREL_addition', '5GC001085-B_Intra-frequency_inter-gNB_neighbor_NRREL_addition_-_Previously_established_Xn', '5GC001085-C_Intra-frequency_NRREL_deletion_(Pruning)_based_on_Measurement_Reports', '5GC002175-QB', '5GC002175-RB', '5GC002640_AD_DRX_MG_support_IODT', 'CB007883-5G-D_-_Spillover_of_5GC001085-D_Intra_Frequency_Inter-gNB_neighbor_NRREL_and_Xn_addition_SON_Config_Transfer', 'CB008533_B_Multiple_UEs_Call_Setup_4CC_DL_CA']>\n"
     ]
    },
    {
     "ename": "AttributeError",
     "evalue": "'str' object has no attribute '_meta'",
     "output_type": "error",
     "traceback": [
      "\u001b[0;31m---------------------------------------------------------------------------\u001b[0m",
      "\u001b[0;31mAttributeError\u001b[0m                            Traceback (most recent call last)",
      "Input \u001b[0;32mIn [32]\u001b[0m, in \u001b[0;36m<cell line: 7>\u001b[0;34m()\u001b[0m\n\u001b[1;32m      5\u001b[0m \u001b[38;5;28mprint\u001b[39m(distinct)\n\u001b[1;32m      6\u001b[0m \u001b[38;5;66;03m# TestSetFilter.objects.filter(pk__in=distinct)\u001b[39;00m\n\u001b[0;32m----> 7\u001b[0m \u001b[43mserialize\u001b[49m\u001b[43m(\u001b[49m\u001b[38;5;124;43m\"\u001b[39;49m\u001b[38;5;124;43mjson\u001b[39;49m\u001b[38;5;124;43m\"\u001b[39;49m\u001b[43m,\u001b[49m\u001b[43m \u001b[49m\u001b[43mdistinct\u001b[49m\u001b[43m)\u001b[49m\n",
      "File \u001b[0;32m/usr/local/lib/python3.8/site-packages/django/core/serializers/__init__.py:134\u001b[0m, in \u001b[0;36mserialize\u001b[0;34m(format, queryset, **options)\u001b[0m\n\u001b[1;32m    129\u001b[0m \u001b[38;5;124;03m\"\"\"\u001b[39;00m\n\u001b[1;32m    130\u001b[0m \u001b[38;5;124;03mSerialize a queryset (or any iterator that returns database objects) using\u001b[39;00m\n\u001b[1;32m    131\u001b[0m \u001b[38;5;124;03ma certain serializer.\u001b[39;00m\n\u001b[1;32m    132\u001b[0m \u001b[38;5;124;03m\"\"\"\u001b[39;00m\n\u001b[1;32m    133\u001b[0m s \u001b[38;5;241m=\u001b[39m get_serializer(\u001b[38;5;28mformat\u001b[39m)()\n\u001b[0;32m--> 134\u001b[0m \u001b[43ms\u001b[49m\u001b[38;5;241;43m.\u001b[39;49m\u001b[43mserialize\u001b[49m\u001b[43m(\u001b[49m\u001b[43mqueryset\u001b[49m\u001b[43m,\u001b[49m\u001b[43m \u001b[49m\u001b[38;5;241;43m*\u001b[39;49m\u001b[38;5;241;43m*\u001b[39;49m\u001b[43moptions\u001b[49m\u001b[43m)\u001b[49m\n\u001b[1;32m    135\u001b[0m \u001b[38;5;28;01mreturn\u001b[39;00m s\u001b[38;5;241m.\u001b[39mgetvalue()\n",
      "File \u001b[0;32m/usr/local/lib/python3.8/site-packages/django/core/serializers/base.py:129\u001b[0m, in \u001b[0;36mSerializer.serialize\u001b[0;34m(self, queryset, stream, fields, use_natural_foreign_keys, use_natural_primary_keys, progress_output, object_count, **options)\u001b[0m\n\u001b[1;32m    126\u001b[0m \u001b[38;5;28mself\u001b[39m\u001b[38;5;241m.\u001b[39mstart_object(obj)\n\u001b[1;32m    127\u001b[0m \u001b[38;5;66;03m# Use the concrete parent class' _meta instead of the object's _meta\u001b[39;00m\n\u001b[1;32m    128\u001b[0m \u001b[38;5;66;03m# This is to avoid local_fields problems for proxy models. Refs #17717.\u001b[39;00m\n\u001b[0;32m--> 129\u001b[0m concrete_model \u001b[38;5;241m=\u001b[39m \u001b[43mobj\u001b[49m\u001b[38;5;241;43m.\u001b[39;49m\u001b[43m_meta\u001b[49m\u001b[38;5;241m.\u001b[39mconcrete_model\n\u001b[1;32m    130\u001b[0m \u001b[38;5;66;03m# When using natural primary keys, retrieve the pk field of the\u001b[39;00m\n\u001b[1;32m    131\u001b[0m \u001b[38;5;66;03m# parent for multi-table inheritance child models. That field must\u001b[39;00m\n\u001b[1;32m    132\u001b[0m \u001b[38;5;66;03m# be serialized, otherwise deserialization isn't possible.\u001b[39;00m\n\u001b[1;32m    133\u001b[0m \u001b[38;5;28;01mif\u001b[39;00m \u001b[38;5;28mself\u001b[39m\u001b[38;5;241m.\u001b[39muse_natural_primary_keys:\n",
      "\u001b[0;31mAttributeError\u001b[0m: 'str' object has no attribute '_meta'"
     ]
    }
   ],
   "source": [
    "# get_distinct_values_and_serialize('test_instance__test_set__test_set_name', TestSetFilter, key_override=\"test_set_name\",\n",
    "#                                    order_by_param=\"test_instance__test_set__test_set_name\")\n",
    "\n",
    "distinct = queryset.order_by('test_instance__test_set__test_set_name').distinct('test_instance__test_set__test_set_name').values_list('test_instance__test_set__test_set_name', flat=True)\n",
    "print(distinct)\n",
    "# TestSetFilter.objects.filter(pk__in=distinct)\n",
    "serialize(\"json\", distinct)"
   ]
  },
  {
   "cell_type": "code",
   "execution_count": 38,
   "id": "900b6d35",
   "metadata": {},
   "outputs": [],
   "source": [
    "distinct = regfilters.order_by('test_set_name').distinct('test_set_name').values_list('test_set_name', flat=True)"
   ]
  },
  {
   "cell_type": "code",
   "execution_count": 40,
   "id": "bf9c0a3d",
   "metadata": {},
   "outputs": [
    {
     "data": {
      "text/plain": [
       "[{'pk': '5GC001085-A_Intra-frequency_intra-gNB_neighbor_NRREL_addition'},\n",
       " {'pk': '5GC001085-B_Intra-frequency_inter-gNB_neighbor_NRREL_addition_-_Previously_established_Xn'},\n",
       " {'pk': '5GC001085-C_Intra-frequency_NRREL_deletion_(Pruning)_based_on_Measurement_Reports'},\n",
       " {'pk': '5GC002175-QB'},\n",
       " {'pk': '5GC002175-RB'},\n",
       " {'pk': '5GC002640_AD_DRX_MG_support_IODT'},\n",
       " {'pk': 'CB007883-5G-D_-_Spillover_of_5GC001085-D_Intra_Frequency_Inter-gNB_neighbor_NRREL_and_Xn_addition_SON_Config_Transfer'},\n",
       " {'pk': 'CB008533_B_Multiple_UEs_Call_Setup_4CC_DL_CA'}]"
      ]
     },
     "execution_count": 40,
     "metadata": {},
     "output_type": "execute_result"
    }
   ],
   "source": [
    "[{'pk': elem} for elem in list(distinct)]"
   ]
  },
  {
   "cell_type": "code",
   "execution_count": null,
   "id": "0d563b2c",
   "metadata": {},
   "outputs": [],
   "source": []
  }
 ],
 "metadata": {
  "kernelspec": {
   "display_name": "Django Shell-Plus",
   "language": "python",
   "name": "django_extensions"
  },
  "language_info": {
   "codemirror_mode": {
    "name": "ipython",
    "version": 3
   },
   "file_extension": ".py",
   "mimetype": "text/x-python",
   "name": "python",
   "nbconvert_exporter": "python",
   "pygments_lexer": "ipython3",
   "version": "3.8.13"
  }
 },
 "nbformat": 4,
 "nbformat_minor": 5
}
