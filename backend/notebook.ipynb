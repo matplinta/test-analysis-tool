{
 "cells": [
  {
   "cell_type": "code",
   "execution_count": 1,
   "id": "cddab4cf",
   "metadata": {},
   "outputs": [],
   "source": [
    "import os\n",
    "import django\n",
    "os.environ.setdefault('DJANGO_SETTINGS_MODULE', 'rest.settings')\n",
    "os.environ[\"DJANGO_ALLOW_ASYNC_UNSAFE\"] = \"true\"\n",
    "django.setup()\n",
    "from functools import reduce\n",
    "from django.core.serializers import serialize"
   ]
  },
  {
   "cell_type": "code",
   "execution_count": 2,
   "id": "966a3cc6",
   "metadata": {},
   "outputs": [],
   "source": [
    "from tra.models import *\n",
    "from tra.test_runs_processing import *\n",
    "from rep_portal.api import *\n",
    "from functools import reduce\n",
    "from django.contrib.auth.models import User\n",
    "from tra import utils\n",
    "from stats.analyzer import Analyzer \n"
   ]
  },
  {
   "cell_type": "code",
   "execution_count": 3,
   "id": "390c0363",
   "metadata": {},
   "outputs": [],
   "source": [
    "def parse_failmessagetypes(ids_list):\n",
    "    querysets = []\n",
    "    for _id in ids_list:\n",
    "        fail_message_type_group = FailMessageTypeGroup.objects.get(id=_id)\n",
    "        querysets.append(fail_message_type_group.fail_message_types.all())\n",
    "\n",
    "    fail_message_types = list(chain(*querysets))\n",
    "    fail_message_dict = {fm_type.regex: fm_type.name for fm_type in fail_message_types}\n",
    "    return fail_message_dict\n",
    "\n",
    "def prepare_filters_for_users_all_subs_regfilters(user):\n",
    "    def _parse_branches(branches):\n",
    "        branches_new = []q\n",
    "        for branch in branches:\n",
    "            if branch.lower() == \"trunk\":\n",
    "                branches_new.append(\"SBTS00\")\n",
    "            else:\n",
    "                branches_new.append(f\"SBTS{branch}\")\n",
    "        return branches_new\n",
    "\n",
    "    fields_dict = utils.get_distinct_values_based_on_subscribed_regfilters(user)\n",
    "    test_sets =      [elem[\"pk\"] for elem in fields_dict[\"test_set_name\"]]\n",
    "    testline_types = [elem[\"pk\"] for elem in fields_dict[\"testline_type\"]]\n",
    "    branches =       [elem[\"pk\"] for elem in fields_dict[\"branch\"]]\n",
    "    branches = _parse_branches(branches)\n",
    "    results = [\"environment issue\", \"not analyzed\"]\n",
    "\n",
    "    return {\n",
    "        \"test_set\": \",\".join(test_sets),\n",
    "        \"testline_type\": \",\".join(testline_types),\n",
    "        \"builds\": \",\".join(branches),\n",
    "        \"result\": \",\".join(results)\n",
    "    }\n",
    "\n"
   ]
  },
  {
   "cell_type": "code",
   "execution_count": 33,
   "id": "c038428e",
   "metadata": {},
   "outputs": [
    {
     "name": "stderr",
     "output_type": "stream",
     "text": [
      "Starting new HTTPS connection (1): rep-portal.wroclaw.nsn-rdnet.net\n"
     ]
    }
   ],
   "source": [
    "filters = prepare_filters_for_users_all_subs_regfilters(User.objects.get(username=\"plinta\"))\n",
    "filters[\"limit\"] = 5000\n",
    "fail_message_dict = parse_failmessagetypes([1,2,3,4,5,6])\n",
    "\n",
    "date_start, date_end = \"2022-09-01\", \"2022-10-01\" \n",
    "analyzer = Analyzer(fail_message_dict, filters)\n",
    "dataframe = analyzer.get_data_from_rp()\n",
    "\n",
    "# df, label = analyzer.get_data_filtered_by_date_ranges(date_start, date_end)\n",
    "# data = analyzer.plot_runs_by_exception_types(df=df)"
   ]
  },
  {
   "cell_type": "code",
   "execution_count": 34,
   "id": "02abe015",
   "metadata": {},
   "outputs": [],
   "source": [
    "dataframe_norm_failmsg = analyzer._get_normalized_exception_data(dataframe)"
   ]
  },
  {
   "cell_type": "code",
   "execution_count": 43,
   "id": "7339f2ca",
   "metadata": {},
   "outputs": [],
   "source": [
    "df_dated, _ = analyzer.get_data_filtered_by_date_ranges(dataframe_norm_failmsg, date_start, date_end)"
   ]
  },
  {
   "cell_type": "code",
   "execution_count": 44,
   "id": "64bea788",
   "metadata": {},
   "outputs": [],
   "source": [
    "from io import BytesIO\n",
    "in_memory_excell = BytesIO()\n",
    "df_dated.to_excel(in_memory_excell)\n",
    "in_memory_excell.seek(0,0)\n",
    "with open(\"dataframe.xlsx\", 'wb') as f:\n",
    "    f.write(in_memory_excell.read())"
   ]
  },
  {
   "cell_type": "code",
   "execution_count": 40,
   "id": "734a1e56",
   "metadata": {},
   "outputs": [
    {
     "data": {
      "text/plain": [
       "2"
      ]
     },
     "execution_count": 40,
     "metadata": {},
     "output_type": "execute_result"
    }
   ],
   "source": []
  },
  {
   "cell_type": "code",
   "execution_count": null,
   "id": "4e8b4f2b",
   "metadata": {},
   "outputs": [],
   "source": []
  }
 ],
 "metadata": {
  "kernelspec": {
   "display_name": "Django Shell-Plus",
   "language": "python",
   "name": "django_extensions"
  },
  "language_info": {
   "codemirror_mode": {
    "name": "ipython",
    "version": 3
   },
   "file_extension": ".py",
   "mimetype": "text/x-python",
   "name": "python",
   "nbconvert_exporter": "python",
   "pygments_lexer": "ipython3",
   "version": "3.8.14"
  }
 },
 "nbformat": 4,
 "nbformat_minor": 5
}
