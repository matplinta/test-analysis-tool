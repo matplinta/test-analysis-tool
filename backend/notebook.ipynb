{
 "cells": [
  {
   "cell_type": "code",
   "execution_count": 1,
   "id": "cddab4cf",
   "metadata": {},
   "outputs": [],
   "source": [
    "import os\n",
    "import django\n",
    "os.environ.setdefault('DJANGO_SETTINGS_MODULE', 'rest.settings')\n",
    "os.environ[\"DJANGO_ALLOW_ASYNC_UNSAFE\"] = \"true\"\n",
    "django.setup()\n",
    "from functools import reduce\n",
    "from django.core.serializers import serialize"
   ]
  },
  {
   "cell_type": "code",
   "execution_count": 5,
   "id": "966a3cc6",
   "metadata": {},
   "outputs": [],
   "source": [
    "from tra.models import *\n",
    "from tra.test_runs_processing import *\n",
    "from rep_portal.api import *\n",
    "from functools import reduce\n",
    "from django.contrib.auth.models import User"
   ]
  },
  {
   "cell_type": "code",
   "execution_count": 6,
   "id": "390c0363",
   "metadata": {},
   "outputs": [],
   "source": [
    "from tra.storage import get_storage_instance\n",
    "from tra import utils"
   ]
  },
  {
   "cell_type": "code",
   "execution_count": 7,
   "id": "c038428e",
   "metadata": {},
   "outputs": [
    {
     "data": {
      "text/plain": [
       "220"
      ]
     },
     "execution_count": 7,
     "metadata": {},
     "output_type": "execute_result"
    }
   ],
   "source": [
    "queryset = TestInstance.objects.all()\n",
    "user = User.objects.get(username=\"plinta\")\n",
    "tsfilters = TestSetFilter.objects.filter(subscribers=user)\n",
    "queryset = queryset.filter(\n",
    "    reduce(lambda q, tsfilter: q | Q(test_set=tsfilter), tsfilters, Q())\n",
    ")\n",
    "queryset.count()"
   ]
  },
  {
   "cell_type": "code",
   "execution_count": 10,
   "id": "4707b096",
   "metadata": {},
   "outputs": [
    {
     "data": {
      "text/plain": [
       "220"
      ]
     },
     "execution_count": 10,
     "metadata": {},
     "output_type": "execute_result"
    }
   ],
   "source": [
    "TestInstance.objects.filter(test_set__subscribers=user).count()"
   ]
  },
  {
   "cell_type": "code",
   "execution_count": 9,
   "id": "b34d5797",
   "metadata": {},
   "outputs": [
    {
     "name": "stdout",
     "output_type": "stream",
     "text": [
      "110\n",
      "110\n",
      "103\n",
      "103\n",
      "110\n",
      "110\n"
     ]
    }
   ],
   "source": [
    "from itertools import chain \n",
    "\n",
    "auth_params = utils.get_rp_api_auth_params()\n",
    "testset_filters = TestSetFilter.objects.exclude(subscribers=None)\n",
    "branches = set([tsf.branch for tsf in testset_filters])\n",
    "# ti_eligible_to_sync_all = list(chain(*[testset_filter.test_instances.all() for testset_filter in testset_filters]))\n",
    "ti_eligible_to_sync_all = TestInstance.objects.none()\n",
    "for testset_filter in testset_filters:\n",
    "    ti_eligible_to_sync_all = ti_eligible_to_sync_all | testset_filter.test_instances.all() \n",
    "organizations = set([ti.organization for ti in ti_eligible_to_sync_all])\n",
    "\n",
    "for organization in organizations:\n",
    "    for branch in branches:\n",
    "        print(TestInstance.objects.exclude(test_set__subscribers=None).filter(organization=organization, test_set__branch=branch).count())\n",
    "        ti_eligible_to_sync = ti_eligible_to_sync_all.filter(organization=organization, test_set__branch=branch)\n",
    "        print(ti_eligible_to_sync.count())\n",
    "#         ti_noruns =  RepPortal(**auth_params).get_test_instances_for_present_feature_build_with_specified_status(\n",
    "#             organization.name, status=\"no_run\", release=branch.name, regression_test_types=\"rg_CIT,rg_CRT\")\n",
    "#         print(organization, branch)\n",
    "#         ti_eligible_ids = set([ti.rp_id for ti in ti_eligible_to_sync])\n",
    "#         ti_noruns_ids = set([ti[\"id\"] for ti in ti_noruns])\n",
    "#         ti_intersection = ti_eligible_ids.intersection(ti_noruns_ids)\n",
    "#         print(ti_intersection)\n",
    "#         TestInstance.objects.filter(rp_id__in=list(ti_intersection)).update(no_run_in_rp=True)\n",
    "#         print(TestInstance.objects.filter(rp_id__in=ti_intersection))\n"
   ]
  },
  {
   "cell_type": "code",
   "execution_count": 5,
   "id": "eb9cb630",
   "metadata": {},
   "outputs": [
    {
     "ename": "NameError",
     "evalue": "name 'organization' is not defined",
     "output_type": "error",
     "traceback": [
      "\u001b[0;31m---------------------------------------------------------------------------\u001b[0m",
      "\u001b[0;31mNameError\u001b[0m                                 Traceback (most recent call last)",
      "Input \u001b[0;32mIn [5]\u001b[0m, in \u001b[0;36m<cell line: 1>\u001b[0;34m()\u001b[0m\n\u001b[0;32m----> 1\u001b[0m TestInstance\u001b[38;5;241m.\u001b[39mobjects\u001b[38;5;241m.\u001b[39mfilter(organization\u001b[38;5;241m=\u001b[39m\u001b[43morganization\u001b[49m, test_set__branch\u001b[38;5;241m=\u001b[39mbranch)\n",
      "\u001b[0;31mNameError\u001b[0m: name 'organization' is not defined"
     ]
    }
   ],
   "source": []
  },
  {
   "cell_type": "code",
   "execution_count": 10,
   "id": "72a036a2",
   "metadata": {},
   "outputs": [
    {
     "data": {
      "text/plain": [
       "<QuerySet [<TestSetFilter: Trunk - CLOUD_5G_I_LO_AP_LO_SANSA_FS_ECPRI_CMWV_TDD - 5GC001085-B_Intra-frequency_inter-gNB_neighbor_NRREL_addition_-_Previously_established_Xn>, <TestSetFilter: Trunk - CLOUD_5G_I_BOO_AP_KLLL_SANSA_L1B_ECPRI_CMWV_TDD - CB008533_B_Multiple_UEs_Call_Setup_4CC_DL_CA>, <TestSetFilter: Trunk - CLOUD_5G_I_BOO_AP_KLLL_SANSA_L1B_ECPRI_CMWV_TDD - 5GC002640_AD_DRX_MG_support_IODT>, <TestSetFilter: Trunk - CLOUD_5G_I_LO_AP_LO_SANSA_FS_ECPRI_CMWV_TDD - 5GC001085-A_Intra-frequency_intra-gNB_neighbor_NRREL_addition>, <TestSetFilter: Trunk - CLOUD_5G_O_E_AP_LO_SANSA_FS_ECPRI_CMWV_TDD - 5GC001085-A_Intra-frequency_intra-gNB_neighbor_NRREL_addition>, <TestSetFilter: Trunk - CLOUD_5G_O_E_AP_LO_SANSA_FS_ECPRI_CMWV_TDD - 5GC001085-B_Intra-frequency_inter-gNB_neighbor_NRREL_addition_-_Previously_established_Xn>, <TestSetFilter: Trunk - CLOUD_5G_I_LO_AP_LO_SANSA_FS_ECPRI_CMWV_TDD - 5GC001085-C_Intra-frequency_NRREL_deletion_(Pruning)_based_on_Measurement_Reports>, <TestSetFilter: Trunk - CLOUD_5G_O_E_AP_LO_SANSA_FS_ECPRI_CMWV_TDD - 5GC001085-C_Intra-frequency_NRREL_deletion_(Pruning)_based_on_Measurement_Reports>, <TestSetFilter: Trunk - CLOUD_5G_I_LO_AP_LO_SANSA_FS_ECPRI_CMWV_TDD - CB007883-5G-D_-_Spillover_of_5GC001085-D_Intra_Frequency_Inter-gNB_neighbor_NRREL_and_Xn_addition_SON_Config_Transfer>, <TestSetFilter: Trunk - CLOUD_5G_O_E_AP_LO_SANSA_FS_ECPRI_CMWV_TDD - CB007883-5G-D_-_Spillover_of_5GC001085-D_Intra_Frequency_Inter-gNB_neighbor_NRREL_and_Xn_addition_SON_Config_Transfer>, <TestSetFilter: Trunk - CLOUD_5G_I_LO_AP_LO_SANSA_FS_ECPRI_CMWV_TDD - 5GC002175-RB>, <TestSetFilter: Trunk - CLOUD_5G_O_E_AP_LO_SANSA_FS_ECPRI_CMWV_TDD - 5GC002175-RB>, <TestSetFilter: Trunk - CLOUD_5G_I_LO_AP_LO_SANSA_FS_ECPRI_CMWV_TDD - 5GC002175-QB>, <TestSetFilter: Trunk - CLOUD_5G_O_E_AP_LO_SANSA_FS_ECPRI_CMWV_TDD - 5GC002175-QB>, <TestSetFilter: 22R3 - CLOUD_5G_I_LO_AP_LO_SANSA_FS_ECPRI_CMWV_TDD - CB007883-5G-D_-_Spillover_of_5GC001085-D_Intra_Frequency_Inter-gNB_neighbor_NRREL_and_Xn_addition_SON_Config_Transfer>, <TestSetFilter: 22R3 - CLOUD_5G_O_E_AP_LO_SANSA_FS_ECPRI_CMWV_TDD - CB007883-5G-D_-_Spillover_of_5GC001085-D_Intra_Frequency_Inter-gNB_neighbor_NRREL_and_Xn_addition_SON_Config_Transfer>, <TestSetFilter: 22R3 - CLOUD_5G_I_LO_AP_LO_SANSA_FS_ECPRI_CMWV_TDD - 5GC001085-C_Intra-frequency_NRREL_deletion_(Pruning)_based_on_Measurement_Reports>, <TestSetFilter: 22R3 - CLOUD_5G_O_E_AP_LO_SANSA_FS_ECPRI_CMWV_TDD - 5GC001085-C_Intra-frequency_NRREL_deletion_(Pruning)_based_on_Measurement_Reports>, <TestSetFilter: 22R3 - CLOUD_5G_I_LO_AP_LO_SANSA_FS_ECPRI_CMWV_TDD - 5GC002175-RB>, <TestSetFilter: 22R3 - CLOUD_5G_O_E_AP_LO_SANSA_FS_ECPRI_CMWV_TDD - 5GC002175-RB>, '...(remaining elements truncated)...']>"
      ]
     },
     "execution_count": 10,
     "metadata": {},
     "output_type": "execute_result"
    }
   ],
   "source": [
    "TestSetFilter.objects.exclude(subscribers=None)"
   ]
  },
  {
   "cell_type": "code",
   "execution_count": null,
   "id": "6ed722f0",
   "metadata": {},
   "outputs": [],
   "source": []
  }
 ],
 "metadata": {
  "kernelspec": {
   "display_name": "Django Shell-Plus",
   "language": "python",
   "name": "django_extensions"
  },
  "language_info": {
   "codemirror_mode": {
    "name": "ipython",
    "version": 3
   },
   "file_extension": ".py",
   "mimetype": "text/x-python",
   "name": "python",
   "nbconvert_exporter": "python",
   "pygments_lexer": "ipython3",
   "version": "3.8.13"
  }
 },
 "nbformat": 4,
 "nbformat_minor": 5
}
