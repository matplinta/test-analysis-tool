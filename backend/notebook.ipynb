{
 "cells": [
  {
   "cell_type": "code",
   "execution_count": 7,
   "id": "cddab4cf",
   "metadata": {},
   "outputs": [],
   "source": [
    "import os\n",
    "import django\n",
    "os.environ.setdefault('DJANGO_SETTINGS_MODULE', 'rest.settings')\n",
    "os.environ[\"DJANGO_ALLOW_ASYNC_UNSAFE\"] = \"true\"\n",
    "django.setup()\n",
    "from functools import reduce\n",
    "from django.core.serializers import serialize"
   ]
  },
  {
   "cell_type": "code",
   "execution_count": 8,
   "id": "966a3cc6",
   "metadata": {},
   "outputs": [],
   "source": [
    "from tra.models import *\n",
    "from tra.test_runs_processing import *"
   ]
  },
  {
   "cell_type": "code",
   "execution_count": 9,
   "id": "390c0363",
   "metadata": {},
   "outputs": [],
   "source": [
    "from tra.storage import get_storage_instance\n",
    "from tra import utils"
   ]
  },
  {
   "cell_type": "code",
   "execution_count": 10,
   "id": "9332c723",
   "metadata": {},
   "outputs": [
    {
     "data": {
      "text/plain": [
       "'http://127.0.0.1:9000'"
      ]
     },
     "execution_count": 10,
     "metadata": {},
     "output_type": "execute_result"
    }
   ],
   "source": [
    "storage = get_storage_instance()\n",
    "storage._storage_http_server"
   ]
  },
  {
   "cell_type": "code",
   "execution_count": 5,
   "id": "c19661bf",
   "metadata": {},
   "outputs": [],
   "source": [
    "# storage.save(\"2175v2\", \"http://logs.ute.nsn-rdnet.net/cloud/execution/15632187/\")\n",
    "storage.delete('tra')"
   ]
  },
  {
   "cell_type": "code",
   "execution_count": 6,
   "id": "75f05ce8",
   "metadata": {},
   "outputs": [
    {
     "name": "stderr",
     "output_type": "stream",
     "text": [
      "Starting new HTTPS connection (1): rep-portal.wroclaw.nsn-rdnet.net\n"
     ]
    },
    {
     "name": "stdout",
     "output_type": "stream",
     "text": [
      "['limit=50', 'result__name__pos_neg=passed&test_col__testline_type__pos_neg=CLOUD_5G_I_LO_AP_LO_SANSA_FS_ECPRI_CMWV_TDD&qc_test_instance__test_set__name__pos_neg=5GC002175-QB&qc_test_instance__m_path__pos_neg_empty_str=Root%5CTest_Sets%5CTrunk%5CRAN_L2_SW_KRK_2%5C5GC002175_Spillover_from_SA_Mobility_%285GC000704_5GC000708%29', 'fields=id,airphone,qc_test_set,qc_test_instance,organization,hyperlink_set,test_suite,test_case__name,test_col,test_line,result,env_issue_type,comment,builds,fail_message,start,end']\n"
     ]
    },
    {
     "data": {
      "text/plain": [
       "{'new_runs': [83676557,\n",
       "  83676556,\n",
       "  83535989,\n",
       "  83535984,\n",
       "  83509530,\n",
       "  83509527,\n",
       "  83348643,\n",
       "  83348642,\n",
       "  83199575,\n",
       "  83199574,\n",
       "  83063901,\n",
       "  83063898,\n",
       "  82996159,\n",
       "  82996152,\n",
       "  82861609,\n",
       "  82861606,\n",
       "  82702208,\n",
       "  82702202,\n",
       "  82544965,\n",
       "  82544963,\n",
       "  82487450,\n",
       "  82487441,\n",
       "  82349580,\n",
       "  82349572,\n",
       "  82185542,\n",
       "  82185536],\n",
       " 'skipped_runs': [82068772,\n",
       "  82068770,\n",
       "  81986025,\n",
       "  81986021,\n",
       "  81916994,\n",
       "  81916990,\n",
       "  81703399,\n",
       "  81703394,\n",
       "  81563846,\n",
       "  81563834,\n",
       "  81516677,\n",
       "  81516675,\n",
       "  81386503,\n",
       "  81386499,\n",
       "  81145773,\n",
       "  81145771,\n",
       "  81116523,\n",
       "  81116521,\n",
       "  81002740,\n",
       "  81002736,\n",
       "  80844662,\n",
       "  80844659,\n",
       "  80663887,\n",
       "  80663881]}"
      ]
     },
     "execution_count": 6,
     "metadata": {},
     "output_type": "execute_result"
    }
   ],
   "source": [
    "pull_passed_testruns_by_testset_filter(13)\n",
    "# download_latest_passed_logs_by_testset_filter(13)"
   ]
  },
  {
   "cell_type": "code",
   "execution_count": 11,
   "id": "6111b350",
   "metadata": {},
   "outputs": [
    {
     "name": "stdout",
     "output_type": "stream",
     "text": [
      "265\n",
      "355\n"
     ]
    }
   ],
   "source": [
    "testsetfilter = TestSetFilter.objects.get(id=13)\n",
    "test_instance = testsetfilter.test_instances.all()\n",
    "# testruns = test_instance.test_runs.all().filter(result=utils.get_passed_result_instance()).order_by('-end_time')\n",
    "# for testrun in testruns:\n",
    "#     print(testrun.end_time)\n",
    "for ti in test_instance: \n",
    "    print(ti.id)"
   ]
  },
  {
   "cell_type": "code",
   "execution_count": 6,
   "id": "51e3c492",
   "metadata": {},
   "outputs": [],
   "source": [
    "download_latest_passed_logs_by_testset_filter(13)"
   ]
  },
  {
   "cell_type": "code",
   "execution_count": 14,
   "id": "a57b7a84",
   "metadata": {},
   "outputs": [
    {
     "data": {
      "text/plain": [
       "<AsyncResult: a700667c-9aa6-41ce-92e1-06607abc3f7a>"
      ]
     },
     "execution_count": 14,
     "metadata": {},
     "output_type": "execute_result"
    }
   ],
   "source": [
    "from tra.tasks import remove_old_passed_logs_from_log_storage\n",
    "remove_old_passed_logs_from_log_storage.delay()"
   ]
  },
  {
   "cell_type": "code",
   "execution_count": null,
   "id": "4aba188d",
   "metadata": {},
   "outputs": [],
   "source": []
  }
 ],
 "metadata": {
  "kernelspec": {
   "display_name": "Django Shell-Plus",
   "language": "python",
   "name": "django_extensions"
  },
  "language_info": {
   "codemirror_mode": {
    "name": "ipython",
    "version": 3
   },
   "file_extension": ".py",
   "mimetype": "text/x-python",
   "name": "python",
   "nbconvert_exporter": "python",
   "pygments_lexer": "ipython3",
   "version": "3.8.13"
  }
 },
 "nbformat": 4,
 "nbformat_minor": 5
}
