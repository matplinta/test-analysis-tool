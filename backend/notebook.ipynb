{
 "cells": [
  {
   "cell_type": "code",
   "execution_count": 8,
   "id": "cddab4cf",
   "metadata": {},
   "outputs": [],
   "source": [
    "import os\n",
    "import django\n",
    "os.environ.setdefault('DJANGO_SETTINGS_MODULE', 'rest.settings')\n",
    "os.environ[\"DJANGO_ALLOW_ASYNC_UNSAFE\"] = \"true\"\n",
    "django.setup()\n",
    "from functools import reduce\n",
    "from django.core.serializers import serialize"
   ]
  },
  {
   "cell_type": "code",
   "execution_count": 9,
   "id": "966a3cc6",
   "metadata": {},
   "outputs": [],
   "source": [
    "from tra.models import *\n",
    "from tra.test_runs_processing import *\n",
    "from rep_portal.api import *\n",
    "from functools import reduce\n",
    "from django.contrib.auth.models import User"
   ]
  },
  {
   "cell_type": "code",
   "execution_count": 10,
   "id": "390c0363",
   "metadata": {},
   "outputs": [],
   "source": [
    "from tra.storage import get_storage_instance\n",
    "from tra import utils"
   ]
  },
  {
   "cell_type": "code",
   "execution_count": 18,
   "id": "c038428e",
   "metadata": {},
   "outputs": [],
   "source": [
    "from django.db.models import Count\n",
    "user = User.objects.get(username=\"admin\")\n",
    "\n",
    "observed_test_insatnces = TestInstance.objects.filter(test_set__subscribers=user)\n",
    "observed_test_runs = TestRun.objects.filter(test_instance__test_set__subscribers=user)\n",
    "\n",
    "current_fb = FeatureBuild.objects.all().order_by(\"-name\").first()\n",
    "testruns_in_current_fb = observed_test_runs.filter(fb=current_fb)\n",
    "na_testruns = testruns_in_current_fb.filter(result=utils.get_not_analyzed_result_instance())\n",
    "envissue_testruns = testruns_in_current_fb.filter(result=utils.get_env_issue_result_instance())\n",
    "suspended_tis = observed_test_insatnces.filter(execution_suspended=True)\n",
    "norun_tis = observed_test_insatnces.filter(no_run_in_rp=True)\n",
    "\n",
    "top_na, top_na_count = na_testruns.values_list('fail_message').annotate(fm_count=Count('fail_message')).order_by('-fm_count').first()\n",
    "top_envissue, top_envissue_count = envissue_testruns.values_list('comment').annotate(comment_count=Count('comment')).order_by('-comment_count').first()\n",
    "response = {\n",
    "    \"env_issues\": {\n",
    "        \"count\": envissue_testruns.count(),\n",
    "        \"top\": top_envissue,\n",
    "        \"top_count\": top_envissue_count,\n",
    "        \"top_count_percent\": int((top_envissue_count/envissue_testruns.count())*100)\n",
    "    },\n",
    "    \"not_analyzed\": {\n",
    "        \"count\": na_testruns.count(),\n",
    "        \"top\": top_na,\n",
    "        \"top_count\": top_na_count,\n",
    "        \"top_count_percent\": int((top_na_count/na_testruns.count())*100)\n",
    "    },\n",
    "    \"test_instances\":\n",
    "    {\n",
    "        \"suspended\": suspended_tis.count(),\n",
    "        \"no_run\": norun_tis.count()\n",
    "    }\n",
    "}"
   ]
  },
  {
   "cell_type": "code",
   "execution_count": 19,
   "id": "972a94e0",
   "metadata": {},
   "outputs": [
    {
     "data": {
      "text/plain": [
       "{'env_issues': {'count': 88,\n",
       "  'top': '[Env Issue Type: iphy] Analyzed by user autoanalyzer: MIB-SIB Acquisition Failed',\n",
       "  'top_count': 68,\n",
       "  'top_count_percent': 77},\n",
       " 'not_analyzed': {'count': 5,\n",
       "  'top': 'Number of messages 0 is not >= to 1',\n",
       "  'top_count': 2,\n",
       "  'top_count_percent': 40},\n",
       " 'test_instances': {'suspended': 13, 'no_run': 33}}"
      ]
     },
     "execution_count": 19,
     "metadata": {},
     "output_type": "execute_result"
    }
   ],
   "source": [
    "response"
   ]
  },
  {
   "cell_type": "code",
   "execution_count": 21,
   "id": "64bea788",
   "metadata": {},
   "outputs": [
    {
     "data": {
      "text/plain": [
       "2922"
      ]
     },
     "execution_count": 21,
     "metadata": {},
     "output_type": "execute_result"
    }
   ],
   "source": []
  },
  {
   "cell_type": "code",
   "execution_count": null,
   "id": "734a1e56",
   "metadata": {},
   "outputs": [],
   "source": []
  }
 ],
 "metadata": {
  "kernelspec": {
   "display_name": "Django Shell-Plus",
   "language": "python",
   "name": "django_extensions"
  },
  "language_info": {
   "codemirror_mode": {
    "name": "ipython",
    "version": 3
   },
   "file_extension": ".py",
   "mimetype": "text/x-python",
   "name": "python",
   "nbconvert_exporter": "python",
   "pygments_lexer": "ipython3",
   "version": "3.8.13"
  }
 },
 "nbformat": 4,
 "nbformat_minor": 5
}
